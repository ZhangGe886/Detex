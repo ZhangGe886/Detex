{
 "cells": [
  {
   "cell_type": "markdown",
   "metadata": {},
   "source": [
    "# Configuring Detex\n",
    "This section is intended to introduce the detex logger, show how to find the version of detex you are using, as well as present some package level variables that can be set. \n",
    "\n",
    "## The log\n",
    "Detex can create a log of nearly everything it does, but this feature needs to be enabled. \n",
    "\n",
    "First, we import detex"
   ]
  },
  {
   "cell_type": "code",
   "execution_count": null,
   "metadata": {},
   "outputs": [],
   "source": [
    "import detex"
   ]
  },
  {
   "cell_type": "code",
   "execution_count": null,
   "metadata": {},
   "outputs": [],
   "source": [
    "detex.setLogger()"
   ]
  },
  {
   "cell_type": "markdown",
   "metadata": {},
   "source": [
    "Notice that, in your current working directory, a new file has been created called detex_log.log. Alternatively we could pass a relative or absolute path to the setLogger call to make the file in a different location and call it by a different name, but we will stick with the default for now. "
   ]
  },
  {
   "cell_type": "markdown",
   "metadata": {},
   "source": [
    "For each logged event, that is each entry in the log, there are four fields separated by tabs (\"\\t\"). They are:\n",
    "* The date and time the entry was made\n",
    "* The module that made the entry\n",
    "* The level of the log, they are:\n",
    "    1. info - nothing is wrong, detex is simply letting you know what it is doing.\n",
    "    1. debug - there might be some minor problems, info is logged to help you figure it out.\n",
    "    1. warning - something went wrong but detex can press forward. This happens, for example when detex finds corrupted data; it will issue a warning and try to move on to the next usable data block.\n",
    "    1. critical - something is very wrong but detex will try to keep going (not used very often).\n",
    "    1. error - detex encountered a major problem that cannot be ignored. At this point an exception is raised and everything stops.\n",
    "* The message passed to the logger"
   ]
  },
  {
   "cell_type": "markdown",
   "metadata": {},
   "source": [
    "Many times the logger will also print to the screen in addition to making an entry in the log file. If you prefer your screen not to be cluttered but detex you can silence it by setting the verbose variable to False."
   ]
  },
  {
   "cell_type": "code",
   "execution_count": null,
   "metadata": {},
   "outputs": [],
   "source": [
    "detex.verbose = False"
   ]
  },
  {
   "cell_type": "markdown",
   "metadata": {},
   "source": [
    "Detex also has a max file size the log can be. If it finds a log that has exceeded this size it will simply delete it and create a new one. Ideally, a [rotating file handler](https://docs.python.org/2/library/logging.handlers.html#rotatingfilehandler) will be used in the future to keep the log under the specified limit without deleting the whole log but as of version 1.0.4 it has not been implemented. The log size limit is controlled by the maxSize parameter which, by default is 10 mb. "
   ]
  },
  {
   "cell_type": "markdown",
   "metadata": {},
   "source": [
    "One way to read a log, and process it in a systemic way is to use a function in the detex utilities called readLog, which will load the log into a pandas DataFrame (if you don't know what that is stop and do the [10 minute tutorial](http://pandas.pydata.org/pandas-docs/stable/10min.html) on pandas). Once in a DataFrame you could search the log for certain times, levels, or strings in the messages. Of course, you could do this with commands like grep from a terminal as well, but the less you have to leave python the better.  \n",
    "\n"
   ]
  },
  {
   "cell_type": "code",
   "execution_count": null,
   "metadata": {},
   "outputs": [],
   "source": [
    "log = detex.util.readLog()\n",
    "log"
   ]
  },
  {
   "cell_type": "markdown",
   "metadata": {},
   "source": [
    "## Version\n",
    "You can check the detex version with the version attribute of detex"
   ]
  },
  {
   "cell_type": "code",
   "execution_count": null,
   "metadata": {},
   "outputs": [],
   "source": [
    "detex.__version__"
   ]
  },
  {
   "cell_type": "markdown",
   "metadata": {},
   "source": [
    "# Next Section\n",
    "The [next section](../RequiredFiles/required_files.md) covers the files you will need to create in order to use detex. "
   ]
  },
  {
   "cell_type": "code",
   "execution_count": null,
   "metadata": {},
   "outputs": [],
   "source": []
  }
 ],
 "metadata": {
  "kernelspec": {
   "display_name": "Python 2",
   "language": "python",
   "name": "python2"
  },
  "language_info": {
   "codemirror_mode": {
    "name": "ipython",
    "version": 2
   },
   "file_extension": ".py",
   "mimetype": "text/x-python",
   "name": "python",
   "nbconvert_exporter": "python",
   "pygments_lexer": "ipython2",
   "version": "2.7.12"
  }
 },
 "nbformat": 4,
 "nbformat_minor": 0
}
